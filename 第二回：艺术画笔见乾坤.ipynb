{
 "cells": [
  {
   "cell_type": "markdown",
   "metadata": {},
   "source": [
    "# 第二回：艺术画笔见乾坤"
   ]
  },
  {
   "cell_type": "markdown",
   "metadata": {},
   "source": [
    "## 一、概述"
   ]
  },
  {
   "cell_type": "markdown",
   "metadata": {},
   "source": [
    "### 1. matplotlib的三层api\n",
    "matplotlib的原理或者说基础逻辑是，用Artist对象在画布(canvas)上绘制(Render)图形。  \n",
    "就和人作画的步骤类似：  \n",
    "1. 准备一块画布或画纸\n",
    "2. 准备好颜料、画笔等制图工具\n",
    "3. 作画\n",
    "    \n",
    "所以matplotlib有三个层次的API：  \n",
    "  \n",
    "`matplotlib.backend_bases.FigureCanvas` 代表了绘图区，所有的图像都是在绘图区完成的  \n",
    "`matplotlib.backend_bases.Renderer` 代表了渲染器，可以近似理解为画笔，控制如何在 FigureCanvas 上画图。  \n",
    "`matplotlib.artist.Artist` 代表了具体的图表组件，即调用了Renderer的接口在Canvas上作图。  \n",
    "前两者处理程序和计算机的底层交互的事项，第三项Artist就是具体的调用接口来做出我们想要的图，比如图形、文本、线条的设定。所以通常来说，我们95%的时间，都是用来和matplotlib.artist.Artist类打交道的。\n",
    "\n",
    "### 2. Artist的分类\n",
    "Artist有两种类型：`primitives` 和`containers`。   \n",
    "`primitive`是基本要素，它包含一些我们要在绘图区作图用到的标准图形对象，如**曲线Line2D，文字text，矩形Rectangle，图像image**等。  \n",
    "`container`是容器，即用来装基本要素的地方，包括**图形figure、坐标系Axes和坐标轴Axis**。他们之间的关系如下图所示：  \n",
    "![分类](https://img-blog.csdnimg.cn/20201122230916134.jpeg?x-oss-process=image/watermark,type_ZmFuZ3poZW5naGVpdGk,shadow_10,text_aHR0cHM6Ly9ibG9nLmNzZG4ubmV0L3dlaXhpbl8zODYwNDk2MQ==,size_16,color_FFFFFF,t_70#pic_center)  \n"
   ]
  },
  {
   "cell_type": "markdown",
   "metadata": {
    "ExecuteTime": {
     "end_time": "2020-10-31T08:16:02.613781Z",
     "start_time": "2020-10-31T08:16:02.591813Z"
    }
   },
   "source": [
    "### 3. matplotlib标准用法\n",
    "matplotlib的标准使用流程为：  \n",
    "1. 创建一个`Figure`实例\n",
    "2. 使用`Figure`实例创建一个或者多个`Axes`或`Subplot`实例\n",
    "3. 使用`Axes`实例的辅助方法来创建`primitive`  \n",
    "\n",
    "值得一提的是，Axes是一种容器，它可能是matplotlib API中最重要的类，并且我们大多数时间都花在和它打交道上。更具体的信息会在之后容器小节说明。\n",
    "\n",
    "一个流程示例及说明如下：  "
   ]
  },
  {
   "cell_type": "code",
   "execution_count": 1,
   "metadata": {
    "ExecuteTime": {
     "end_time": "2020-11-22T19:03:14.365365Z",
     "start_time": "2020-11-22T19:03:13.189584Z"
    }
   },
   "outputs": [
    {
     "data": {
      "image/png": "[encoded data removed]",
      "text/plain": [
       "<Figure size 432x288 with 1 Axes>"
      ]
     },
     "metadata": {
      "needs_background": "light"
     },
     "output_type": "display_data"
    }
   ],
   "source": [
    "import matplotlib.pyplot as plt\n",
    "import numpy as np\n",
    "\n",
    "# step 1 \n",
    "# 我们用 matplotlib.pyplot.figure() 创建了一个Figure实例\n",
    "fig = plt.figure()\n",
    "\n",
    "# step 2\n",
    "# 然后用Figure实例创建了一个两行一列(即可以有两个subplot)的绘图区，并同时在第一个位置创建了一个subplot\n",
    "ax = fig.add_subplot(2, 1, 1) # two rows, one column, first plot\n",
    "\n",
    "# step 3\n",
    "# 然后用Axes实例的方法画了一条曲线\n",
    "t = np.arange(0.0, 1.0, 0.01)\n",
    "s = np.sin(2*np.pi*t)\n",
    "line, = ax.plot(t, s, color='blue', lw=2)"
   ]
  },
  {
   "cell_type": "markdown",
   "metadata": {},
   "source": [
    "## 二、自定义你的Artist对象"
   ]
  },
  {
   "cell_type": "markdown",
   "metadata": {},
   "source": [
    "### 1. Artist属性\n",
    "在图形中的每一个元素都对应着一个matplotlib `Artist`，且都有其对应的配置属性列表。  \n",
    "  \n",
    "`Figure`本身包含一个Rectangle，Rectangle的大小就是Figure的大小；你可以用来设置Figure的背景色和透明度。  \n",
    "每个`Axes`边界框(默认白底黑边)，也有一个Rectangle，通过它可以设置Axes的颜色、透明度等。  \n",
    "这些实例都存储在成员变量(member variables) `Figure.patch` 和 `Axes.patch`中。 （*Patch*是一个来源于MATLAB的名词，它是图形上颜色的一个2D*补丁*，包含**rectangels-矩形**，**circles-圆** 和 **plygons-多边形**）\n",
    "  \n",
    "换个表达方式：  \n",
    "Figure.patch属性：是一个Rectangle，代表了图表的矩形框，它的大小就是图表的大小， 并且可以通过它设置figure的背景色和透明度。  \n",
    "Axes.patch属性：也是一个Rectangle，代表了绘图坐标轴内部的矩形框（白底黑边）， 通过它可以设置Axes的颜色、透明度等。  \n",
    "\n",
    "\n",
    "每个matplotlib `Artist`都有以下属性：\n",
    "+ `.alpha`属性：透明度。值为0—1之间的浮点数\n",
    "+ `.axes`属性：返回这个Artist所属的axes，可能为None\n",
    "+ `.figure`属性：该Artist所属的Figure，可能为None\n",
    "+ `.label`：一个text label\n",
    "+ `.visible`：布尔值，控制Artist是否绘制\n",
    "  \n",
    "这里仅列举几个常见的属性，更详细的属性清单请查阅官方文档： [Artist属性列表](https://matplotlib.org/tutorials/intermediate/artists.html#customizing-your-objects)"
   ]
  },
  {
   "cell_type": "code",
   "execution_count": 2,
   "metadata": {
    "ExecuteTime": {
     "end_time": "2020-11-22T19:03:14.574902Z",
     "start_time": "2020-11-22T19:03:14.368326Z"
    }
   },
   "outputs": [
    {
     "data": {
      "text/plain": [
       "<matplotlib.patches.Rectangle at 0x2b15318f048>"
      ]
     },
     "execution_count": 2,
     "metadata": {},
     "output_type": "execute_result"
    },
    {
     "data": {
      "image/png": "[encoded data removed]",
      "text/plain": [
       "<Figure size 432x288 with 1 Axes>"
      ]
     },
     "metadata": {
      "needs_background": "light"
     },
     "output_type": "display_data"
    }
   ],
   "source": [
    "# .patch\n",
    "plt.figure().patch\n",
    "plt.axes().patch"
   ]
  },
  {
   "cell_type": "markdown",
   "metadata": {},
   "source": [
    "### 2. 属性调用方式\n",
    "Artist对象的所有属性都通过相应的 `get_*` 和 `set_*` 函数进行读写。  \n",
    "例如下面的语句将alpha属性设置为当前值的一半：\n",
    "```\n",
    "a = o.get_alpha()\n",
    "o.set_alpha(0.5*a)\n",
    "```\n",
    "\n",
    "如果想一次设置多个属性，也可以用set方法：\n",
    "```\n",
    "o.set(alpha=0.5, zorder=2)\n",
    "```\n",
    "\n",
    "可以使用 `matplotlib.artist.getp(o,\"alpha\")` 来获取属性，如果指定属性名，则返回对象的该属性值；如果不指定属性名，则返回对象的所有的属性和值。"
   ]
  },
  {
   "cell_type": "code",
   "execution_count": 3,
   "metadata": {
    "ExecuteTime": {
     "end_time": "2020-11-22T19:03:14.604817Z",
     "start_time": "2020-11-22T19:03:14.578887Z"
    }
   },
   "outputs": [
    {
     "name": "stdout",
     "output_type": "stream",
     "text": [
      "    agg_filter = None\n",
      "    alpha = None\n",
      "    animated = False\n",
      "    antialiased or aa = False\n",
      "    bbox = Bbox(x0=0.0, y0=0.0, x1=1.0, y1=1.0)\n",
      "    capstyle = butt\n",
      "    children = []\n",
      "    clip_box = None\n",
      "    clip_on = True\n",
      "    clip_path = None\n",
      "    contains = None\n",
      "    data_transform = BboxTransformTo(     TransformedBbox(         Bbox...\n",
      "    edgecolor or ec = (1.0, 1.0, 1.0, 0.0)\n",
      "    extents = Bbox(x0=0.0, y0=0.0, x1=432.0, y1=288.0)\n",
      "    facecolor or fc = (1.0, 1.0, 1.0, 0.0)\n",
      "    figure = Figure(432x288)\n",
      "    fill = True\n",
      "    gid = None\n",
      "    hatch = None\n",
      "    height = 1\n",
      "    in_layout = False\n",
      "    joinstyle = miter\n",
      "    label = \n",
      "    linestyle or ls = solid\n",
      "    linewidth or lw = 0.0\n",
      "    patch_transform = CompositeGenericTransform(     BboxTransformTo(   ...\n",
      "    path = Path(array([[0., 0.],        [1., 0.],        [1.,...\n",
      "    path_effects = []\n",
      "    picker = None\n",
      "    rasterized = None\n",
      "    sketch_params = None\n",
      "    snap = None\n",
      "    transform = CompositeGenericTransform(     CompositeGenericTra...\n",
      "    transformed_clip_path_and_affine = (None, None)\n",
      "    url = None\n",
      "    verts = [[  0.   0.]  [432.   0.]  [432. 288.]  [  0. 288....\n",
      "    visible = True\n",
      "    width = 1\n",
      "    window_extent = Bbox(x0=0.0, y0=0.0, x1=432.0, y1=288.0)\n",
      "    x = 0\n",
      "    xy = (0, 0)\n",
      "    y = 0\n",
      "    zorder = 1\n"
     ]
    }
   ],
   "source": [
    "import matplotlib\n",
    "# Figure rectangle的属性\n",
    "matplotlib.artist.getp(fig.patch)"
   ]
  },
  {
   "cell_type": "markdown",
   "metadata": {},
   "source": [
    "## 三、基本元素 - primitives\n",
    "现在我们知道了如何检查和设置给定对象的属性，我们还需要知道如何获取该对象。  \n",
    "  \n",
    "前文介绍到，`Artist`包含两种对象：`基本要素-primitives` 和 `容器-containers`。  \n",
    "`primitives`是基本要素，它包含一些我们要在绘图区作图用到的标准图形对象，如**曲线Line2D，文本text，矩形Rectangle，图像image**等。  \n",
    "`container`是容器，即用来装基本要素的地方，包括**图形figure、坐标系Axes和坐标轴Axis**。    \n",
    "  \n",
    "本章重点介绍下 `primitives` 的几种类型：**曲线-Line2D，矩形-Rectangle，图像-image** （其中文本-Text较为复杂，会在之后单独详细说明。）\n"
   ]
  },
  {
   "cell_type": "markdown",
   "metadata": {},
   "source": [
    "### 1. 2DLines\n",
    "在matplotlib中曲线的绘制，主要是通过类 `matplotlib.lines.Line2D` 来完成的。   \n",
    "它的基类: `matplotlib.artist.Artist`   \n",
    "  \n",
    "matplotlib中`线-line`的含义：它表示的可以是连接所有顶点的实线样式，也可以是每个顶点的标记。此外，这条线也会受到绘画风格的影响，比如，我们可以创建虚线种类的线。"
   ]
  },
  {
   "cell_type": "markdown",
   "metadata": {},
   "source": [
    "它的构造函数：\n",
    "\n",
    ">```\n",
    "class matplotlib.lines.Line2D(xdata, ydata, linewidth=None, linestyle=None, color=None, marker=None, markersize=None, markeredgewidth=None, markeredgecolor=None, markerfacecolor=None, markerfacecoloralt='none', fillstyle=None, antialiased=None, dash_capstyle=None, solid_capstyle=None, dash_joinstyle=None, solid_joinstyle=None, pickradius=5, drawstyle=None, markevery=None, **kwargs)\n",
    ">```\n"
   ]
  },
  {
   "cell_type": "markdown",
   "metadata": {},
   "source": [
    "其中常用的的参数有：  \n",
    "+ **xdata**:需要绘制的line中点的在x轴上的取值，若忽略，则默认为range(1,len(ydata)+1)\n",
    "+ **ydata**:需要绘制的line中点的在y轴上的取值\n",
    "+ **linewidth**:线条的宽度\n",
    "+ **linestyle**:线型\n",
    "+ **color**:线条的颜色\n",
    "+ **marker**:点的标记，详细可参考[markers API](https://matplotlib.org/api/markers_api.html#module-matplotlib.markers)\n",
    "+ **markersize**:标记的size\n",
    "  \n",
    "其他详细参数可参考[Line2D官方文档](https://matplotlib.org/api/_as_gen/matplotlib.lines.Line2D.html#examples-using-matplotlib-lines-line2d)"
   ]
  },
  {
   "cell_type": "markdown",
   "metadata": {},
   "source": [
    "#### a. 如何设置Line2D的属性\n",
    "有三种方法可以用设置线的属性。  \n",
    "  \n",
    "1) **直接在plot()函数中设置**"
   ]
  },
  {
   "cell_type": "code",
   "execution_count": 4,
   "metadata": {
    "ExecuteTime": {
     "end_time": "2020-11-22T19:03:14.889128Z",
     "start_time": "2020-11-22T19:03:14.609805Z"
    }
   },
   "outputs": [
    {
     "data": {
      "text/plain": [
       "[<matplotlib.lines.Line2D at 0x2b153213548>]"
      ]
     },
     "execution_count": 4,
     "metadata": {},
     "output_type": "execute_result"
    },
    {
     "data": {
      "image/png": "[encoded data removed]",
      "text/plain": [
       "<Figure size 432x288 with 1 Axes>"
      ]
     },
     "metadata": {
      "needs_background": "light"
     },
     "output_type": "display_data"
    }
   ],
   "source": [
    "import matplotlib.pyplot as plt\n",
    "x = range(0,5)\n",
    "y = [2,5,7,8,10]\n",
    "plt.plot(x,y, linewidth=10) # 设置线的粗细参数为10"
   ]
  },
  {
   "cell_type": "markdown",
   "metadata": {},
   "source": [
    "2) **通过获得线对象，对线对象进行设置**"
   ]
  },
  {
   "cell_type": "code",
   "execution_count": 5,
   "metadata": {
    "ExecuteTime": {
     "end_time": "2020-11-22T19:03:15.099050Z",
     "start_time": "2020-11-22T19:03:14.892131Z"
    }
   },
   "outputs": [
    {
     "data": {
      "image/png": "[encoded data removed]",
      "text/plain": [
       "<Figure size 432x288 with 1 Axes>"
      ]
     },
     "metadata": {
      "needs_background": "light"
     },
     "output_type": "display_data"
    }
   ],
   "source": [
    "x = range(0,5)\n",
    "y = [2,5,7,8,10]\n",
    "line, = plt.plot(x, y, '-')\n",
    "line.set_antialiased(False) # 关闭抗锯齿功能"
   ]
  },
  {
   "cell_type": "markdown",
   "metadata": {},
   "source": [
    "3) **获得线属性，使用setp()函数设置**"
   ]
  },
  {
   "cell_type": "code",
   "execution_count": 6,
   "metadata": {
    "ExecuteTime": {
     "end_time": "2020-11-22T19:03:15.323270Z",
     "start_time": "2020-11-22T19:03:15.102970Z"
    }
   },
   "outputs": [
    {
     "data": {
      "text/plain": [
       "[None, None]"
      ]
     },
     "execution_count": 6,
     "metadata": {},
     "output_type": "execute_result"
    },
    {
     "data": {
      "image/png": "[encoded data removed]",
      "text/plain": [
       "<Figure size 432x288 with 1 Axes>"
      ]
     },
     "metadata": {
      "needs_background": "light"
     },
     "output_type": "display_data"
    }
   ],
   "source": [
    "x = range(0,5)\n",
    "y = [2,5,7,8,10]\n",
    "lines = plt.plot(x, y)\n",
    "plt.setp(lines, color='r', linewidth=10)"
   ]
  },
  {
   "cell_type": "markdown",
   "metadata": {},
   "source": [
    "#### b. 如何绘制lines\n",
    "**1) 绘制直线line**\n",
    "常用的方法有两种\n",
    "+ **pyplot方法绘制**  \n",
    "+ **Line2D对象绘制**  \n"
   ]
  },
  {
   "cell_type": "markdown",
   "metadata": {},
   "source": [
    "1. pyplot方法绘制"
   ]
  },
  {
   "cell_type": "code",
   "execution_count": 7,
   "metadata": {
    "ExecuteTime": {
     "end_time": "2020-11-22T19:03:15.562639Z",
     "start_time": "2020-11-22T19:03:15.328265Z"
    }
   },
   "outputs": [
    {
     "data": {
      "text/plain": [
       "[<matplotlib.lines.Line2D at 0x2b153387f08>]"
      ]
     },
     "execution_count": 7,
     "metadata": {},
     "output_type": "execute_result"
    },
    {
     "data": {
      "image/png": "[encoded data removed]",
      "text/plain": [
       "<Figure size 432x288 with 1 Axes>"
      ]
     },
     "metadata": {
      "needs_background": "light"
     },
     "output_type": "display_data"
    }
   ],
   "source": [
    "import matplotlib.pyplot as plt\n",
    "x = range(0,5)\n",
    "y = [2,5,7,8,10]\n",
    "plt.plot(x,y)"
   ]
  },
  {
   "cell_type": "markdown",
   "metadata": {},
   "source": [
    "2. Line2D对象绘制"
   ]
  },
  {
   "cell_type": "code",
   "execution_count": 8,
   "metadata": {
    "ExecuteTime": {
     "end_time": "2020-11-22T19:03:15.787151Z",
     "start_time": "2020-11-22T19:03:15.569619Z"
    }
   },
   "outputs": [
    {
     "data": {
      "image/png": "[encoded data removed]",
      "text/plain": [
       "<Figure size 432x288 with 1 Axes>"
      ]
     },
     "metadata": {
      "needs_background": "light"
     },
     "output_type": "display_data"
    }
   ],
   "source": [
    "import matplotlib.pyplot as plt\n",
    "from matplotlib.lines import Line2D      \n",
    "\n",
    "fig = plt.figure()\n",
    "ax = fig.add_subplot(111)\n",
    "line = Line2D(x, y)\n",
    "ax.add_line(line)\n",
    "ax.set_xlim(min(x), max(x))\n",
    "ax.set_ylim(min(y), max(y))\n",
    "\n",
    "plt.show()"
   ]
  },
  {
   "cell_type": "markdown",
   "metadata": {},
   "source": [
    "**2) errorbar绘制误差折线图**  \n",
    "pyplot里有个专门绘制误差线的功能，通过`errorbar`类实现，它的构造函数： \n",
    "  \n",
    ">matplotlib.pyplot.errorbar(x, y, yerr=None, xerr=None, fmt='', ecolor=None, elinewidth=None, capsize=None, barsabove=False, lolims=False, uplims=False, xlolims=False, xuplims=False, errorevery=1, capthick=None, \\*, data=None, \\**kwargs)\n",
    "  \n",
    "其中最主要的参数是前几个:  \n",
    "+ **x**：需要绘制的line中点的在x轴上的取值  \n",
    "+ **y**：需要绘制的line中点的在y轴上的取值  \n",
    "+ **yerr**：指定y轴水平的误差  \n",
    "+ **xerr**：指定x轴水平的误差   \n",
    "+ **fmt**：指定折线图中某个点的颜色，形状，线条风格，例如‘co--’  \n",
    "+ **ecolor**：指定error bar的颜色  \n",
    "+ **elinewidth**：指定error bar的线条宽度  \n"
   ]
  },
  {
   "cell_type": "markdown",
   "metadata": {},
   "source": [
    "绘制errorbar"
   ]
  },
  {
   "cell_type": "code",
   "execution_count": 9,
   "metadata": {
    "ExecuteTime": {
     "end_time": "2020-11-22T19:03:16.011512Z",
     "start_time": "2020-11-22T19:03:15.791101Z"
    }
   },
   "outputs": [
    {
     "data": {
      "text/plain": [
       "<ErrorbarContainer object of 3 artists>"
      ]
     },
     "execution_count": 9,
     "metadata": {},
     "output_type": "execute_result"
    },
    {
     "data": {
      "image/png": "[encoded data removed]",
      "text/plain": [
       "<Figure size 432x288 with 1 Axes>"
      ]
     },
     "metadata": {
      "needs_background": "light"
     },
     "output_type": "display_data"
    }
   ],
   "source": [
    "import numpy as np\n",
    "import matplotlib.pyplot as plt\n",
    "fig = plt.figure()\n",
    "x = np.arange(10)\n",
    "y = 2.5 * np.sin(x / 20 * np.pi)\n",
    "yerr = np.linspace(0.05, 0.2, 10)\n",
    "plt.errorbar(x, y + 3, yerr=yerr, label='both limits (default)')\n"
   ]
  },
  {
   "cell_type": "markdown",
   "metadata": {},
   "source": [
    "### 2. patches\n",
    "matplotlib.patches.Patch类是二维图形类。它的基类是matplotlib.artist.Artist，它的构造函数：  \n",
    "详细清单见 [matplotlib.patches API](https://matplotlib.org/api/patches_api.html)  \n",
    "  \n",
    "  \n",
    "\n",
    ">Patch(edgecolor=None, facecolor=None, color=None,\n",
    "  linewidth=None, linestyle=None, antialiased=None,\n",
    "  hatch=None, fill=True, capstyle=None, joinstyle=None,\n",
    "  **kwargs)\n",
    "  "
   ]
  },
  {
   "cell_type": "markdown",
   "metadata": {},
   "source": [
    "#### a. Rectangle-矩形\n",
    "`Rectangle`矩形类在官网中的定义是： 通过锚点xy及其宽度和高度生成。\n",
    "Rectangle本身的主要比较简单，即xy控制锚点，width和height分别控制宽和高。它的构造函数：\n",
    "\n",
    "> class matplotlib.patches.Rectangle(xy, width, height, angle=0.0, **kwargs)\n",
    "\n",
    "在实际中最常见的矩形图是hist直方图和bar条形图。  \n",
    "  \n",
    "  "
   ]
  },
  {
   "cell_type": "markdown",
   "metadata": {},
   "source": [
    "**1) hist-直方图**  \n",
    "\n",
    ">matplotlib.pyplot.hist(x,bins=None,range=None, density=None, bottom=None, histtype='bar', align='mid', log=False, color=None, label=None, stacked=False, normed=None)\n",
    "    \n",
    "下面是一些常用的参数：  \n",
    "+ **x**: 数据集，最终的直方图将对数据集进行统计\n",
    "+ **bins**: 统计的区间分布\n",
    "+ **range**: tuple, 显示的区间，range在没有给出bins时生效\n",
    "+ **density**: bool，默认为false，显示的是频数统计结果，为True则显示频率统计结果，这里需要注意，频率统计结果=区间数目/(总数*区间宽度)，和normed效果一致，官方推荐使用density\n",
    "+ **histtype**: 可选{'bar', 'barstacked', 'step', 'stepfilled'}之一，默认为bar，推荐使用默认配置，step使用的是梯状，stepfilled则会对梯状内部进行填充，效果与bar类似\n",
    "+ **align**: 可选{'left', 'mid', 'right'}之一，默认为'mid'，控制柱状图的水平分布，left或者right，会有部分空白区域，推荐使用默认\n",
    "+ **log**: bool，默认False,即y坐标轴是否选择指数刻度\n",
    "+ **stacked**: bool，默认为False，是否为堆积状图"
   ]
  },
  {
   "cell_type": "markdown",
   "metadata": {},
   "source": [
    "hist绘制直方图"
   ]
  },
  {
   "cell_type": "code",
   "execution_count": 10,
   "metadata": {
    "ExecuteTime": {
     "end_time": "2020-11-22T19:03:16.265839Z",
     "start_time": "2020-11-22T19:03:16.015501Z"
    }
   },
   "outputs": [
    {
     "data": {
      "text/plain": [
       "(0.0, 100.0)"
      ]
     },
     "execution_count": 10,
     "metadata": {},
     "output_type": "execute_result"
    },
    {
     "data": {
      "image/png": "[encoded data removed]",
      "text/plain": [
       "<Figure size 432x288 with 1 Axes>"
      ]
     },
     "metadata": {
      "needs_background": "light"
     },
     "output_type": "display_data"
    }
   ],
   "source": [
    "import matplotlib.pyplot as plt\n",
    "import numpy as np \n",
    "x=np.random.randint(0,100,100) #生成【0-100】之间的100个数据,即 数据集 \n",
    "bins=np.arange(0,101,10) #设置连续的边界值，即直方图的分布区间[0,10],[10,20]... \n",
    "plt.hist(x,bins,color='fuchsia',alpha=0.5)#alpha设置透明度，0为完全透明 \n",
    "plt.xlabel('scores') \n",
    "plt.ylabel('count') \n",
    "plt.xlim(0,100)#设置x轴分布范围 plt.show()"
   ]
  },
  {
   "cell_type": "markdown",
   "metadata": {},
   "source": [
    "`Rectangle`矩形类绘制直方图"
   ]
  },
  {
   "cell_type": "code",
   "execution_count": 11,
   "metadata": {
    "ExecuteTime": {
     "end_time": "2020-11-22T19:03:17.636487Z",
     "start_time": "2020-11-22T19:03:16.268824Z"
    }
   },
   "outputs": [
    {
     "data": {
      "image/png": "[encoded data removed]",
      "text/plain": [
       "<Figure size 432x288 with 1 Axes>"
      ]
     },
     "metadata": {
      "needs_background": "light"
     },
     "output_type": "display_data"
    }
   ],
   "source": [
    "import pandas as pd\n",
    "import re\n",
    "df = pd.DataFrame(columns = ['data'])\n",
    "df.loc[:,'data'] = x\n",
    "df['fenzu'] = pd.cut(df['data'], bins=bins, right = False,include_lowest=True)\n",
    "\n",
    "df_cnt = df['fenzu'].value_counts().reset_index()\n",
    "df_cnt.loc[:,'mini'] = df_cnt['index'].astype(str).map(lambda x:re.findall('\\[(.*)\\,',x)[0]).astype(int)\n",
    "df_cnt.loc[:,'maxi'] = df_cnt['index'].astype(str).map(lambda x:re.findall('\\,(.*)\\)',x)[0]).astype(int)\n",
    "df_cnt.loc[:,'width'] = df_cnt['maxi']- df_cnt['mini']\n",
    "df_cnt.sort_values('mini',ascending = True,inplace = True)\n",
    "df_cnt.reset_index(inplace = True,drop = True)\n",
    "\n",
    "#用Rectangle把hist绘制出来\n",
    "import matplotlib.pyplot as plt\n",
    "\n",
    "fig = plt.figure()\n",
    "ax1 = fig.add_subplot(111)\n",
    "#rect1 = plt.Rectangle((0,0),10,10)\n",
    "#ax1.add_patch(rect)\n",
    "\n",
    "#ax2 = fig.add_subplot(212)\n",
    "for i in df_cnt.index:\n",
    "    rect =  plt.Rectangle((df_cnt.loc[i,'mini'],0),df_cnt.loc[i,'width'],df_cnt.loc[i,'fenzu'])\n",
    "#rect2 = plt.Rectangle((10,0),10,5)\n",
    "    ax1.add_patch(rect)\n",
    "#ax1.add_patch(rect2)\n",
    "ax1.set_xlim(0, 100)\n",
    "ax1.set_ylim(0, 16)\n",
    "plt.show()"
   ]
  },
  {
   "cell_type": "markdown",
   "metadata": {},
   "source": [
    "**2) bar-柱状图**   \n",
    "  \n",
    ">matplotlib.pyplot.bar(left, height, alpha=1, width=0.8, color=, edgecolor=, label=, lw=3)\n",
    "  \n",
    "下面是一些常用的参数：    \n",
    "+ **left**：x轴的位置序列，一般采用range函数产生一个序列，但是有时候可以是字符串  \n",
    "+ **height**：y轴的数值序列，也就是柱形图的高度，一般就是我们需要展示的数据；  \n",
    "+ **alpha**：透明度，值越小越透明  \n",
    "+ **width**：为柱形图的宽度，一般这是为0.8即可；  \n",
    "+ **color或facecolor**：柱形图填充的颜色；  \n",
    "+ **edgecolor**：图形边缘颜色   \n",
    "+ **label**：解释每个图像代表的含义，这个参数是为legend()函数做铺垫的，表示该次bar的标签    "
   ]
  },
  {
   "cell_type": "markdown",
   "metadata": {},
   "source": [
    "bar绘制柱状图"
   ]
  },
  {
   "cell_type": "code",
   "execution_count": 12,
   "metadata": {
    "ExecuteTime": {
     "end_time": "2020-11-22T19:03:17.905764Z",
     "start_time": "2020-11-22T19:03:17.639478Z"
    }
   },
   "outputs": [
    {
     "data": {
      "text/plain": [
       "<BarContainer object of 16 artists>"
      ]
     },
     "execution_count": 12,
     "metadata": {},
     "output_type": "execute_result"
    },
    {
     "data": {
      "image/png": "[encoded data removed]",
      "text/plain": [
       "<Figure size 432x288 with 1 Axes>"
      ]
     },
     "metadata": {
      "needs_background": "light"
     },
     "output_type": "display_data"
    }
   ],
   "source": [
    "import matplotlib as mpl\n",
    "y = range(1,17)\n",
    "plt.bar(np.arange(16), y, alpha=0.5, width=0.5, color='yellow', edgecolor='red', label='The First Bar', lw=3)"
   ]
  },
  {
   "cell_type": "markdown",
   "metadata": {},
   "source": [
    "`Rectangle`矩形类绘制柱状图"
   ]
  },
  {
   "cell_type": "code",
   "execution_count": 13,
   "metadata": {
    "ExecuteTime": {
     "end_time": "2020-11-22T19:03:18.160085Z",
     "start_time": "2020-11-22T19:03:17.909754Z"
    }
   },
   "outputs": [
    {
     "data": {
      "image/png": "[encoded data removed]",
      "text/plain": [
       "<Figure size 432x288 with 1 Axes>"
      ]
     },
     "metadata": {
      "needs_background": "light"
     },
     "output_type": "display_data"
    }
   ],
   "source": [
    "#import matplotlib.pyplot as plt\n",
    "fig = plt.figure()\n",
    "ax1 = fig.add_subplot(111)\n",
    "\n",
    "for i in range(1,17):\n",
    "    rect =  plt.Rectangle((i+0.25,0),0.5,i)\n",
    "    ax1.add_patch(rect)\n",
    "ax1.set_xlim(0, 16)\n",
    "ax1.set_ylim(0, 16)\n",
    "plt.show()"
   ]
  },
  {
   "cell_type": "markdown",
   "metadata": {},
   "source": [
    "#### b. Polygon-多边形\n",
    "matplotlib.patches.Polygon类是多边形类。其基类是matplotlib.patches.Patch，它的构造函数：\n",
    "  \n",
    ">class matplotlib.patches.Polygon(xy, closed=True, **kwargs)  \n",
    "  \n",
    "xy是一个N×2的numpy array，为多边形的顶点。  \n",
    "closed为True则指定多边形将起点和终点重合从而显式关闭多边形。  \n"
   ]
  },
  {
   "cell_type": "markdown",
   "metadata": {},
   "source": [
    "matplotlib.patches.Polygon类中常用的是fill类，它是基于xy绘制一个填充的多边形，它的定义：\n",
    "\n",
    ">matplotlib.pyplot.fill(*args, data=None, **kwargs)\n",
    "\n",
    "参数说明 : 关于x、y和color的序列，其中color是可选的参数，每个多边形都是由其节点的x和y位置列表定义的，后面可以选择一个颜色说明符。您可以通过提供多个x、y、[颜色]组来绘制多个多边形。"
   ]
  },
  {
   "cell_type": "markdown",
   "metadata": {},
   "source": [
    "fill绘制图形"
   ]
  },
  {
   "cell_type": "code",
   "execution_count": 14,
   "metadata": {
    "ExecuteTime": {
     "end_time": "2020-11-22T19:03:18.414405Z",
     "start_time": "2020-11-22T19:03:18.164076Z"
    }
   },
   "outputs": [
    {
     "data": {
      "text/plain": [
       "[<matplotlib.patches.Polygon at 0x2b1541ce088>]"
      ]
     },
     "execution_count": 14,
     "metadata": {},
     "output_type": "execute_result"
    },
    {
     "data": {
      "image/png": "[encoded data removed]",
      "text/plain": [
       "<Figure size 432x288 with 1 Axes>"
      ]
     },
     "metadata": {
      "needs_background": "light"
     },
     "output_type": "display_data"
    }
   ],
   "source": [
    "import matplotlib.pyplot as plt\n",
    "x = np.linspace(0, 5 * np.pi, 1000) \n",
    "y1 = np.sin(x)\n",
    "y2 = np.sin(2 * x) \n",
    "plt.fill(x, y1, color = \"g\", alpha = 0.3)"
   ]
  },
  {
   "cell_type": "markdown",
   "metadata": {},
   "source": [
    "#### c. Wedge-契形\n",
    "matplotlib.patches.Polygon类是多边形类。其基类是matplotlib.patches.Patch，它的构造函数：\n",
    "\n",
    ">class matplotlib.patches.Wedge(center, r, theta1, theta2, width=None, **kwargs)  \n",
    "  \n",
    "一个Wedge-契形 是以坐标x,y为中心，半径为r，从θ1扫到θ2(单位是度)。  \n",
    "如果宽度给定，则从内半径r -宽度到外半径r画出部分楔形。wedge中比较常见的是绘制饼状图。  \n",
    "  "
   ]
  },
  {
   "cell_type": "markdown",
   "metadata": {},
   "source": [
    "matplotlib.pyplot.pie语法：  \n",
    ">matplotlib.pyplot.pie(x, explode=None, labels=None, colors=None, autopct=None, pctdistance=0.6, shadow=False, labeldistance=1.1, startangle=0, radius=1, counterclock=True, wedgeprops=None, textprops=None, center=0, 0, frame=False, rotatelabels=False, *, normalize=None, data=None)\n",
    "  \n",
    "制作数据x的饼图，每个楔子的面积用x/sum(x)表示。    \n",
    "其中最主要的参数是前4个：  \n",
    "+ **x**：契型的形状，一维数组。\n",
    "+ **explode**：如果不是等于None，则是一个len(x)数组，它指定用于偏移每个楔形块的半径的分数。  \n",
    "+ **labels**：用于指定每个契型块的标记，取值是列表或为None。  \n",
    "+ **colors**：饼图循环使用的颜色序列。如果取值为None，将使用当前活动循环中的颜色。  \n",
    "+ **startangle**：饼状图开始的绘制的角度。   "
   ]
  },
  {
   "cell_type": "markdown",
   "metadata": {},
   "source": [
    "pie绘制饼状图"
   ]
  },
  {
   "cell_type": "code",
   "execution_count": 15,
   "metadata": {
    "ExecuteTime": {
     "end_time": "2020-11-22T19:03:18.519127Z",
     "start_time": "2020-11-22T19:03:18.418395Z"
    }
   },
   "outputs": [
    {
     "data": {
      "image/png": "[encoded data removed]",
      "text/plain": [
       "<Figure size 432x288 with 1 Axes>"
      ]
     },
     "metadata": {},
     "output_type": "display_data"
    }
   ],
   "source": [
    "import matplotlib.pyplot as plt \n",
    "labels = 'Frogs', 'Hogs', 'Dogs', 'Logs'\n",
    "sizes = [15, 30, 45, 10] \n",
    "explode = (0, 0.1, 0, 0) \n",
    "fig1, ax1 = plt.subplots() \n",
    "ax1.pie(sizes, explode=explode, labels=labels, autopct='%1.1f%%', shadow=True, startangle=90) \n",
    "ax1.axis('equal') # Equal aspect ratio ensures that pie is drawn as a circle. \n",
    "plt.show()"
   ]
  },
  {
   "cell_type": "markdown",
   "metadata": {},
   "source": [
    "wedge绘制饼图"
   ]
  },
  {
   "cell_type": "code",
   "execution_count": 16,
   "metadata": {
    "ExecuteTime": {
     "end_time": "2020-11-22T19:03:18.848246Z",
     "start_time": "2020-11-22T19:03:18.524112Z"
    }
   },
   "outputs": [
    {
     "data": {
      "image/png": "[encoded data removed]",
      "text/plain": [
       "<Figure size 432x288 with 1 Axes>"
      ]
     },
     "metadata": {
      "needs_background": "light"
     },
     "output_type": "display_data"
    }
   ],
   "source": [
    "import matplotlib.pyplot as plt \n",
    "from matplotlib.patches import Circle, Wedge\n",
    "from matplotlib.collections import PatchCollection\n",
    "\n",
    "fig = plt.figure()\n",
    "ax1 = fig.add_subplot(111)\n",
    "theta1 = 0\n",
    "sizes = [15, 30, 45, 10] \n",
    "patches = []\n",
    "patches += [\n",
    "    Wedge((0.3, 0.3), .2, 0, 54),             # Full circle\n",
    "    Wedge((0.3, 0.3), .2, 54, 162),  # Full ring\n",
    "    Wedge((0.3, 0.3), .2, 162, 324),              # Full sector\n",
    "    Wedge((0.3, 0.3), .2, 324, 360),  # Ring sector\n",
    "]\n",
    "colors = 100 * np.random.rand(len(patches))\n",
    "p = PatchCollection(patches, alpha=0.4)\n",
    "p.set_array(colors)\n",
    "ax1.add_collection(p)\n",
    "plt.show()"
   ]
  },
  {
   "cell_type": "markdown",
   "metadata": {},
   "source": [
    "### 3. collections\n",
    "collections类是根据点的集合绘制的图形 ，pathcollection是创建路径的集合，其中比较常见的就是散点图scatter，根据x与y绘制不同大小或颜色标记的散点图。 它的构造方法：\n",
    "  \n",
    ">Axes.scatter(self, x, y, s=None, c=None, marker=None, cmap=None, norm=None, vmin=None, vmax=None, alpha=None, linewidths=None, verts=<deprecated parameter>, edgecolors=None, *, plotnonfinite=False, data=None, **kwargs)\n",
    "      \n",
    "      \n",
    "其中最主要的参数是前5个：  \n",
    "+ **x**：数据点x轴的位置  \n",
    "+ **y**：数据点y轴的位置  \n",
    "+ **s**：可以是单个颜色格式的字符串，也可以是一系列颜色  \n",
    "+ **c**：颜色  \n",
    "+ **marker**: 标记的类型  \n"
   ]
  },
  {
   "cell_type": "markdown",
   "metadata": {},
   "source": [
    "scatter绘制散点图"
   ]
  },
  {
   "cell_type": "code",
   "execution_count": 17,
   "metadata": {
    "ExecuteTime": {
     "end_time": "2020-11-22T19:03:19.117524Z",
     "start_time": "2020-11-22T19:03:18.852235Z"
    }
   },
   "outputs": [
    {
     "data": {
      "image/png": "[encoded data removed]",
      "text/plain": [
       "<Figure size 432x288 with 1 Axes>"
      ]
     },
     "metadata": {
      "needs_background": "light"
     },
     "output_type": "display_data"
    }
   ],
   "source": [
    "x = [0,2,4,6,8,10] \n",
    "y = [10]*len(x) \n",
    "s = [20*2**n for n in range(len(x))] \n",
    "plt.scatter(x,y,s=s) \n",
    "plt.show()"
   ]
  },
  {
   "cell_type": "markdown",
   "metadata": {},
   "source": [
    "### 4. images\n",
    "images是matplotlib中绘制image图像的类，其中最常用的imshow可以根据数组绘制成图像，它的构造函数：\n",
    ">class matplotlib.image.AxesImage(ax, cmap=None, norm=None, interpolation=None, origin=None, extent=None, filternorm=True, filterrad=4.0, resample=False, **kwargs)\n",
    "  \n",
    "imshow根据数组绘制图像  \n",
    ">matplotlib.pyplot.imshow(X, cmap=None, norm=None, aspect=None, interpolation=None, alpha=None, vmin=None, vmax=None, origin=None, extent=None, shape=<deprecated parameter>, filternorm=1, filterrad=4.0, imlim=<deprecated parameter>, resample=None, url=None, *, data=None, **kwargs）\n",
    "  "
   ]
  },
  {
   "cell_type": "code",
   "execution_count": 18,
   "metadata": {
    "ExecuteTime": {
     "end_time": "2020-11-22T19:03:19.356889Z",
     "start_time": "2020-11-22T19:03:19.120521Z"
    }
   },
   "outputs": [
    {
     "data": {
      "text/plain": [
       "<matplotlib.image.AxesImage at 0x2b155395788>"
      ]
     },
     "execution_count": 18,
     "metadata": {},
     "output_type": "execute_result"
    },
    {
     "data": {
      "image/png": "[encoded data removed]",
      "text/plain": [
       "<Figure size 432x288 with 1 Axes>"
      ]
     },
     "metadata": {
      "needs_background": "light"
     },
     "output_type": "display_data"
    }
   ],
   "source": [
    "import matplotlib.pyplot as plt \n",
    "import matplotlib.image as mpimg\n",
    "X = [[1, 2], [3, 4], [5, 6]]\n",
    "plt.imshow(X)"
   ]
  },
  {
   "cell_type": "markdown",
   "metadata": {},
   "source": [
    "## 四、对象容器 - Object container\n",
    "容器会包含一些`primitives`，并且容器还有它自身的属性。  \n",
    "比如`Axes Artist`，它是一种容器，它包含了很多`primitives`，比如`Line2D`，`Text`；同时，它也有自身的属性，比如`xscal`，用来控制X轴是`linear`还是`log`的。  "
   ]
  },
  {
   "cell_type": "markdown",
   "metadata": {},
   "source": [
    "### 1. Figure容器\n",
    "`matplotlib.figure.Figure`是`Artist`最顶层的`container`-对象容器，它包含了图表中的所有元素。一张图表的背景就是在`Figure.patch`的一个矩形`Rectangle`。  \n",
    "当我们向图表添加`Figure.add_subplot()`或者`Figure.add_axes()`元素时，这些都会被添加到`Figure.axes`列表中。"
   ]
  },
  {
   "cell_type": "code",
   "execution_count": 19,
   "metadata": {
    "ExecuteTime": {
     "end_time": "2020-11-22T19:03:19.760804Z",
     "start_time": "2020-11-22T19:03:19.359877Z"
    }
   },
   "outputs": [
    {
     "name": "stdout",
     "output_type": "stream",
     "text": [
      "AxesSubplot(0.125,0.536818;0.775x0.343182)\n",
      "[<AxesSubplot:>, <matplotlib.axes._axes.Axes object at 0x000002B1553E65C8>]\n"
     ]
    },
    {
     "data": {
      "image/png": "[encoded data removed]",
      "text/plain": [
       "<Figure size 432x288 with 2 Axes>"
      ]
     },
     "metadata": {
      "needs_background": "light"
     },
     "output_type": "display_data"
    }
   ],
   "source": [
    "fig = plt.figure()\n",
    "ax1 = fig.add_subplot(211) # 作一幅2*1的图，选择第1个子图\n",
    "ax2 = fig.add_axes([0.1, 0.1, 0.7, 0.3]) # 位置参数，四个数分别代表了(left,bottom,width,height)\n",
    "print(ax1) \n",
    "print(fig.axes) # fig.axes 中包含了subplot和axes两个实例, 刚刚添加的"
   ]
  },
  {
   "cell_type": "markdown",
   "metadata": {},
   "source": [
    "由于`Figure`维持了`current axes`，因此你不应该手动的从`Figure.axes`列表中添加删除元素，而是要通过`Figure.add_subplot()`、`Figure.add_axes()`来添加元素，通过`Figure.delaxes()`来删除元素。但是你可以迭代或者访问`Figure.axes`中的`Axes`，然后修改这个`Axes`的属性。   \n",
    "  \n",
    "比如下面的遍历axes里的内容，并且添加网格线："
   ]
  },
  {
   "cell_type": "code",
   "execution_count": 20,
   "metadata": {
    "ExecuteTime": {
     "end_time": "2020-11-22T19:03:19.970250Z",
     "start_time": "2020-11-22T19:03:19.764796Z"
    }
   },
   "outputs": [
    {
     "data": {
      "image/png": "[encoded data removed]",
      "text/plain": [
       "<Figure size 432x288 with 1 Axes>"
      ]
     },
     "metadata": {
      "needs_background": "light"
     },
     "output_type": "display_data"
    }
   ],
   "source": [
    "fig = plt.figure()\n",
    "ax1 = fig.add_subplot(211)\n",
    "\n",
    "for ax in fig.axes:\n",
    "    ax.grid(True)\n",
    "    \n"
   ]
  },
  {
   "cell_type": "markdown",
   "metadata": {},
   "source": [
    "`Figure`也有它自己的`text、line、patch、image`。你可以直接通过`add primitive`语句直接添加。但是注意`Figure`默认的坐标系是以像素为单位，你可能需要转换成figure坐标系：(0,0)表示左下点，(1,1)表示右上点。"
   ]
  },
  {
   "cell_type": "markdown",
   "metadata": {},
   "source": [
    "**Figure容器的常见属性：**  \n",
    "`Figure.patch`属性：Figure的背景矩形  \n",
    "`Figure.axes`属性：一个Axes实例的列表（包括Subplot)  \n",
    "`Figure.images`属性：一个FigureImages patch列表  \n",
    "`Figure.lines`属性：一个Line2D实例的列表（很少使用）  \n",
    "`Figure.legends`属性：一个Figure Legend实例列表（不同于Axes.legends)  \n",
    "`Figure.texts`属性：一个Figure Text实例列表  "
   ]
  },
  {
   "cell_type": "markdown",
   "metadata": {},
   "source": [
    "### 2. Axes容器"
   ]
  },
  {
   "cell_type": "markdown",
   "metadata": {},
   "source": [
    "`matplotlib.axes.Axes`是matplotlib的核心。大量的用于绘图的`Artist`存放在它内部，并且它有许多辅助方法来创建和添加`Artist`给它自己，而且它也有许多赋值方法来访问和修改这些`Artist`。  \n",
    "  \n",
    "和`Figure`容器类似，`Axes`包含了一个patch属性，对于笛卡尔坐标系而言，它是一个`Rectangle`；对于极坐标而言，它是一个`Circle`。这个patch属性决定了绘图区域的形状、背景和边框。"
   ]
  },
  {
   "cell_type": "code",
   "execution_count": 21,
   "metadata": {
    "ExecuteTime": {
     "end_time": "2020-11-22T19:03:20.179686Z",
     "start_time": "2020-11-22T19:03:19.975233Z"
    }
   },
   "outputs": [
    {
     "data": {
      "image/png": "[encoded data removed]",
      "text/plain": [
       "<Figure size 432x288 with 1 Axes>"
      ]
     },
     "metadata": {
      "needs_background": "light"
     },
     "output_type": "display_data"
    }
   ],
   "source": [
    "import numpy as np\n",
    "import matplotlib.pyplot as plt\n",
    "import matplotlib\n",
    "\n",
    "fig = plt.figure()\n",
    "ax = fig.add_subplot(111)\n",
    "rect = ax.patch  # axes的patch是一个Rectangle实例\n",
    "rect.set_facecolor('green')"
   ]
  },
  {
   "cell_type": "markdown",
   "metadata": {},
   "source": [
    "`Axes`有许多方法用于绘图，如`.plot()、.text()、.hist()、.imshow()`等方法用于创建大多数常见的`primitive`(如`Line2D，Rectangle，Text，Image`等等）。在`primitives`中已经涉及，不再赘述。   \n",
    "  \n",
    "Subplot就是一个特殊的Axes，其实例是位于网格中某个区域的Subplot实例。其实你也可以在任意区域创建Axes，通过Figure.add_axes([left,bottom,width,height])来创建一个任意区域的Axes，其中left,bottom,width,height都是[0—1]之间的浮点数，他们代表了相对于Figure的坐标。"
   ]
  },
  {
   "cell_type": "markdown",
   "metadata": {},
   "source": [
    "你不应该直接通过`Axes.lines`和`Axes.patches`列表来添加图表。因为当创建或添加一个对象到图表中时，`Axes`会做许多自动化的工作:  \n",
    "它会设置Artist中figure和axes的属性，同时默认Axes的转换；  \n",
    "它也会检视Artist中的数据，来更新数据结构，这样数据范围和呈现方式可以根据作图范围自动调整。  \n",
    "  \n",
    "你也可以使用Axes的辅助方法`.add_line()`和`.add_patch()`方法来直接添加。  "
   ]
  },
  {
   "cell_type": "markdown",
   "metadata": {},
   "source": [
    "另外Axes还包含两个最重要的Artist container：\n",
    "\n",
    "`ax.xaxis`：XAxis对象的实例，用于处理x轴tick以及label的绘制  \n",
    "`ax.yaxis`：YAxis对象的实例，用于处理y轴tick以及label的绘制  \n",
    "会在下面章节详细说明。"
   ]
  },
  {
   "cell_type": "markdown",
   "metadata": {},
   "source": [
    "**Axes容器**的常见属性有：  \n",
    "`artists`:    Artist实例列表\n",
    "`patch`:     Axes所在的矩形实例\n",
    "`collections`: Collection实例\n",
    "`images`:    Axes图像\n",
    "`legends`:\t  Legend 实例\n",
    "`lines`:\t  Line2D 实例\n",
    "`patches`:\t  Patch 实例\n",
    "`texts`:\t  Text 实例\n",
    "`xaxis`:\t  matplotlib.axis.XAxis 实例\n",
    "`yaxis`:\t  matplotlib.axis.YAxis 实例"
   ]
  },
  {
   "cell_type": "markdown",
   "metadata": {},
   "source": [
    "### 3. Axis容器"
   ]
  },
  {
   "cell_type": "markdown",
   "metadata": {},
   "source": [
    "`matplotlib.axis.Axis`实例处理`tick line`、`grid line`、`tick label`以及`axis label`的绘制，它包括坐标轴上的刻度线、刻度`label`、坐标网格、坐标轴标题。通常你可以独立的配置y轴的左边刻度以及右边的刻度，也可以独立地配置x轴的上边刻度以及下边的刻度。\n",
    "\n",
    "刻度包括主刻度和次刻度，它们都是Tick刻度对象。  \n",
    "  \n",
    "`Axis`也存储了用于自适应，平移以及缩放的`data_interval`和`view_interval`。它还有Locator实例和Formatter实例用于控制刻度线的位置以及刻度label。\n",
    "\n",
    "每个Axis都有一个`label`属性，也有主刻度列表和次刻度列表。这些`ticks`是`axis.XTick`和`axis.YTick`实例，它们包含着`line primitive`以及`text primitive`用来渲染刻度线以及刻度文本。\n",
    "\n",
    "刻度是动态创建的，只有在需要创建的时候才创建（比如缩放的时候）。Axis也提供了一些辅助方法来获取刻度文本、刻度线位置等等：  \n",
    "常见的如下："
   ]
  },
  {
   "cell_type": "code",
   "execution_count": 22,
   "metadata": {
    "ExecuteTime": {
     "end_time": "2020-11-22T19:03:20.508876Z",
     "start_time": "2020-11-22T19:03:20.185670Z"
    }
   },
   "outputs": [
    {
     "data": {
      "text/plain": [
       "array([-0.2,  4.2])"
      ]
     },
     "execution_count": 22,
     "metadata": {},
     "output_type": "execute_result"
    },
    {
     "data": {
      "image/png": "[encoded data removed]",
      "text/plain": [
       "<Figure size 432x288 with 1 Axes>"
      ]
     },
     "metadata": {
      "needs_background": "light"
     },
     "output_type": "display_data"
    }
   ],
   "source": [
    "# 不用print，直接显示结果\n",
    "from IPython.core.interactiveshell import InteractiveShell\n",
    "InteractiveShell.ast_node_interactivity = \"all\"\n",
    "\n",
    "fig, ax = plt.subplots()\n",
    "x = range(0,5)\n",
    "y = [2,5,7,8,10]\n",
    "plt.plot(x, y, '-')\n",
    "\n",
    "axis = ax.xaxis # axis为X轴对象\n",
    "axis.get_ticklocs()     # 获取刻度线位置\n",
    "axis.get_ticklabels()   # 获取刻度label列表(一个Text实例的列表）。 可以通过minor=True|False关键字参数控制输出minor还是major的tick label。\n",
    "axis.get_ticklines()    # 获取刻度线列表(一个Line2D实例的列表）。 可以通过minor=True|False关键字参数控制输出minor还是major的tick line。\n",
    "axis.get_data_interval()# 获取轴刻度间隔\n",
    "axis.get_view_interval()# 获取轴视角（位置）的间隔"
   ]
  },
  {
   "cell_type": "markdown",
   "metadata": {},
   "source": [
    "下面的例子展示了如何调整一些轴和刻度的属性(忽略美观度，仅作调整参考)：  "
   ]
  },
  {
   "cell_type": "code",
   "execution_count": 23,
   "metadata": {
    "ExecuteTime": {
     "end_time": "2020-11-22T19:03:20.763766Z",
     "start_time": "2020-11-22T19:03:20.511852Z"
    }
   },
   "outputs": [
    {
     "data": {
      "image/png": "[encoded data removed]",
      "text/plain": [
       "<Figure size 432x288 with 1 Axes>"
      ]
     },
     "metadata": {},
     "output_type": "display_data"
    }
   ],
   "source": [
    "fig = plt.figure() # 创建一个新图表\n",
    "rect = fig.patch   # 矩形实例并将其设为黄色\n",
    "rect.set_facecolor('lightgoldenrodyellow')\n",
    "\n",
    "ax1 = fig.add_axes([0.1, 0.3, 0.4, 0.4]) # 创一个axes对象，从(0.1,0.3)的位置开始，宽和高都为0.4，\n",
    "rect = ax1.patch   # ax1的矩形设为灰色\n",
    "rect.set_facecolor('lightslategray')\n",
    "\n",
    "\n",
    "for label in ax1.xaxis.get_ticklabels(): \n",
    "    # 调用x轴刻度标签实例，是一个text实例\n",
    "    label.set_color('red') # 颜色\n",
    "    label.set_rotation(45) # 旋转角度\n",
    "    label.set_fontsize(16) # 字体大小\n",
    "\n",
    "for line in ax1.yaxis.get_ticklines():\n",
    "    # 调用y轴刻度线条实例, 是一个Line2D实例\n",
    "    line.set_color('green')    # 颜色\n",
    "    line.set_markersize(25)    # marker大小\n",
    "    line.set_markeredgewidth(2)# marker粗细\n",
    "\n",
    "plt.show()"
   ]
  },
  {
   "cell_type": "markdown",
   "metadata": {},
   "source": [
    "### 4. Tick容器"
   ]
  },
  {
   "cell_type": "markdown",
   "metadata": {},
   "source": [
    "`matplotlib.axis.Tick`是从`Figure`到`Axes`到`Axis`到`Tick`中最末端的容器对象。  \n",
    "`Tick`包含了`tick`、`grid line`实例以及对应的`label`。 \n",
    "  \n",
    "所有的这些都可以通过`Tick`的属性获取，常见的`tick`属性有     \n",
    "`Tick.tick1line`：Line2D实例  \n",
    "`Tick.tick2line`：Line2D实例  \n",
    "`Tick.gridline`：Line2D实例  \n",
    "`Tick.label1`：Text实例  \n",
    "`Tick.label2`：Text实例  \n",
    "  \n",
    "y轴分为左右两个，因此tick1对应左侧的轴；tick2对应右侧的轴。   \n",
    "x轴分为上下两个，因此tick1对应下侧的轴；tick2对应上侧的轴。  "
   ]
  },
  {
   "cell_type": "markdown",
   "metadata": {},
   "source": [
    "下面的例子展示了，如何将Y轴右边轴设为主轴，并将标签设置为美元符号且为绿色："
   ]
  },
  {
   "cell_type": "code",
   "execution_count": 24,
   "metadata": {
    "ExecuteTime": {
     "end_time": "2020-11-22T19:03:21.003124Z",
     "start_time": "2020-11-22T19:03:20.767754Z"
    }
   },
   "outputs": [
    {
     "data": {
      "text/plain": [
       "[<matplotlib.lines.Line2D at 0x2b155643b08>]"
      ]
     },
     "execution_count": 24,
     "metadata": {},
     "output_type": "execute_result"
    },
    {
     "data": {
      "image/png": "[encoded data removed]",
      "text/plain": [
       "<Figure size 432x288 with 1 Axes>"
      ]
     },
     "metadata": {
      "needs_background": "light"
     },
     "output_type": "display_data"
    }
   ],
   "source": [
    "import numpy as np\n",
    "import matplotlib.pyplot as plt\n",
    "import matplotlib\n",
    "\n",
    "fig, ax = plt.subplots()\n",
    "ax.plot(100*np.random.rand(20))\n",
    "\n",
    "# 设置ticker的显示格式\n",
    "formatter = matplotlib.ticker.FormatStrFormatter('$%1.2f')\n",
    "ax.yaxis.set_major_formatter(formatter)\n",
    "\n",
    "# 设置ticker的参数，右侧为主轴，颜色为绿色\n",
    "ax.yaxis.set_tick_params(which='major', labelcolor='green',\n",
    "                         labelleft=False, labelright=True)\n",
    "\n",
    "plt.show()"
   ]
  },
  {
   "cell_type": "markdown",
   "metadata": {},
   "source": [
    "## 思考题\n",
    "1. primitives 和 container的区别和联系是什么？\n",
    "2. 四个容器的联系和区别是么？他们分别控制一张图表的哪些要素？"
   ]
  },
  {
   "cell_type": "markdown",
   "metadata": {},
   "source": [
    "## 绘图题"
   ]
  },
  {
   "cell_type": "markdown",
   "metadata": {},
   "source": [
    "1. 教程中展示的案例都是单一图，请自行创建数据，**画出包含6个子图的线图**，要求：    \n",
    "子图排布是 2 * 3 （2行 3列）；  \n",
    "线图可用教程中line2D方法绘制；  \n",
    "需要设置每个子图的横坐标和纵坐标刻度；\n",
    "并设置整个图的标题，横坐标名称，以及纵坐标名称\n",
    "2. 分别用一组长方形柱和填充面积的方式模仿画出下图，函数 y = -1 * (x - 2) * (x - 8) +10 在区间[2,9]的积分面积\n",
    "![](https://img-blog.csdnimg.cn/20201126105910781.png)\n",
    "![](https://img-blog.csdnimg.cn/20201126105910780.png)"
   ]
  },
  {
   "cell_type": "markdown",
   "metadata": {},
   "source": []
  },
  {
   "cell_type": "markdown",
   "metadata": {},
   "source": [
    "## 参考资料\n",
    "[1. matplotlib设计的基本逻辑](https://zhuanlan.zhihu.com/p/32693665)  \n",
    "[2. matplotlib.artist api](https://matplotlib.org/api/artist_api.html)  \n",
    "[3. matplotlib官方教程](https://matplotlib.org/tutorials/intermediate/artists.html#sphx-glr-tutorials-intermediate-artists-py)  \n",
    "[4. AI算法工程师手册](https://www.bookstack.cn/read/huaxiaozhuan-ai/spilt.2.333f5abdbabf383d.md)  "
   ]
  },
  {
   "cell_type": "code",
   "execution_count": null,
   "metadata": {},
   "outputs": [],
   "source": []
  }
 ],
 "metadata": {
  "kernelspec": {
   "display_name": "Python 3",
   "language": "python",
   "name": "python3"
  },
  "language_info": {
   "codemirror_mode": {
    "name": "ipython",
    "version": 3
   },
   "file_extension": ".py",
   "mimetype": "text/x-python",
   "name": "python",
   "nbconvert_exporter": "python",
   "pygments_lexer": "ipython3",
   "version": "3.7.9"
  },
  "toc": {
   "base_numbering": 1,
   "nav_menu": {},
   "number_sections": false,
   "sideBar": true,
   "skip_h1_title": false,
   "title_cell": "Table of Contents",
   "title_sidebar": "Contents",
   "toc_cell": false,
   "toc_position": {
    "height": "calc(100% - 180px)",
    "left": "10px",
    "top": "150px",
    "width": "341.306px"
   },
   "toc_section_display": true,
   "toc_window_display": true
  }
 },
 "nbformat": 4,
 "nbformat_minor": 4
}
